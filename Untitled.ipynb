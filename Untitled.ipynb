{
 "cells": [
  {
   "cell_type": "code",
   "execution_count": 1,
   "id": "4b4c2b77",
   "metadata": {},
   "outputs": [],
   "source": [
    "import pickle\n",
    "import pandas as pd\n",
    "import numpy as np \n",
    "import matplotlib.pyplot as plt "
   ]
  },
  {
   "cell_type": "code",
   "execution_count": 2,
   "id": "7a7cad96",
   "metadata": {},
   "outputs": [],
   "source": [
    "path='/Users/hamzahalloway/Nextcloud/Shared/HAMZA_PhD/Data/Probant_DevAsd/RESULT_sigmo/Controles/'\n",
    "category=[\"Enfants\",\"Ados\",'Adultes']\n",
    "file=path+category[2]+'/ADGO/ADGOa90.pkl'"
   ]
  },
  {
   "cell_type": "code",
   "execution_count": 30,
   "id": "ec51923f",
   "metadata": {},
   "outputs": [
    {
     "data": {
      "text/plain": [
       "['GALA',\n",
       " 'EKPE',\n",
       " 'ALCH',\n",
       " 'PAMA2',\n",
       " 'VIIB',\n",
       " 'JEFE',\n",
       " 'ELRO',\n",
       " 'MAPA2',\n",
       " 'THBO',\n",
       " 'JUPA',\n",
       " 'ROGI',\n",
       " 'TOWA',\n",
       " 'ETGA',\n",
       " 'NIBO',\n",
       " 'ARBA',\n",
       " 'ANAR',\n",
       " 'SOHE',\n",
       " 'ULBA',\n",
       " 'JUBO',\n",
       " 'ANCH',\n",
       " 'PAGA',\n",
       " 'CHGA',\n",
       " 'VIIO',\n",
       " 'JOBA',\n",
       " 'MAJO',\n",
       " 'GAGI',\n",
       " 'DOLU',\n",
       " 'ALBR',\n",
       " 'TACH']"
      ]
     },
     "execution_count": 30,
     "metadata": {},
     "output_type": "execute_result"
    }
   ],
   "source": [
    "from os import listdir\n",
    "names = [f for f in listdir(path+category[0])]\n",
    "names"
   ]
  },
  {
   "cell_type": "code",
   "execution_count": 3,
   "id": "3d72a09e",
   "metadata": {},
   "outputs": [
    {
     "data": {
      "text/plain": [
       "'/Users/hamzahalloway/Nextcloud/Shared/HAMZA_PhD/Data/Probant_DevAsd/RESULT_sigmo/Controles/Adultes/ADGO/ADGOa90.pkl'"
      ]
     },
     "execution_count": 3,
     "metadata": {},
     "output_type": "execute_result"
    }
   ],
   "source": [
    "file"
   ]
  },
  {
   "cell_type": "code",
   "execution_count": 5,
   "id": "3b6d7a5b",
   "metadata": {},
   "outputs": [],
   "source": [
    "\n",
    "with open(file, 'rb') as f:\n",
    "    data = pickle.load(f)"
   ]
  },
  {
   "cell_type": "code",
   "execution_count": 10,
   "id": "2a2d111f",
   "metadata": {},
   "outputs": [
    {
     "data": {
      "text/plain": [
       "dict_keys(['N_blocks', 'N_trials', 'time_sup', 'step_fit', 'do_whitening', 'before_sacc', 'after_sacc', 'stop_search_misac', 'filt', 'cutoff', 'sample_rate', 'observer', 'start_anti', 'a_anti', 'latency', 'ramp_pursuit', 'steady_state', 'old_anti', 'old_steady_state', 'old_latency', 'goodness_of_fit', 'nb_sacc', 'near_sacc', 'bias', 'dir_target'])"
      ]
     },
     "execution_count": 10,
     "metadata": {},
     "output_type": "execute_result"
    }
   ],
   "source": [
    "data.keys()"
   ]
  },
  {
   "cell_type": "code",
   "execution_count": 24,
   "id": "276db54c",
   "metadata": {},
   "outputs": [
    {
     "data": {
      "text/plain": [
       "150"
      ]
     },
     "execution_count": 24,
     "metadata": {},
     "output_type": "execute_result"
    }
   ],
   "source": [
    "len(data[\"start_anti\"][0])"
   ]
  },
  {
   "cell_type": "code",
   "execution_count": 26,
   "id": "a72a693c",
   "metadata": {},
   "outputs": [
    {
     "data": {
      "text/plain": [
       "150"
      ]
     },
     "execution_count": 26,
     "metadata": {},
     "output_type": "execute_result"
    }
   ],
   "source": [
    "len(data[\"latency\"][0])"
   ]
  },
  {
   "cell_type": "code",
   "execution_count": 31,
   "id": "d30e6d7d",
   "metadata": {},
   "outputs": [
    {
     "data": {
      "text/plain": [
       "15"
      ]
     },
     "execution_count": 31,
     "metadata": {},
     "output_type": "execute_result"
    }
   ],
   "source": [
    "data[\"after_sacc\"]"
   ]
  },
  {
   "cell_type": "code",
   "execution_count": 33,
   "id": "d4b8d529",
   "metadata": {},
   "outputs": [
    {
     "data": {
      "text/plain": [
       "'velocity'"
      ]
     },
     "execution_count": 33,
     "metadata": {},
     "output_type": "execute_result"
    }
   ],
   "source": [
    "data[\"filt\"]\n"
   ]
  },
  {
   "cell_type": "code",
   "execution_count": 46,
   "id": "7f44dd98",
   "metadata": {},
   "outputs": [
    {
     "data": {
      "text/plain": [
       "150"
      ]
     },
     "execution_count": 46,
     "metadata": {},
     "output_type": "execute_result"
    }
   ],
   "source": [
    "len(data[\"dir_target\"][0])"
   ]
  },
  {
   "cell_type": "code",
   "execution_count": 47,
   "id": "84645ff1",
   "metadata": {},
   "outputs": [
    {
     "data": {
      "text/plain": [
       "'ADGO'"
      ]
     },
     "execution_count": 47,
     "metadata": {},
     "output_type": "execute_result"
    }
   ],
   "source": [
    "data[\"observer\"]"
   ]
  },
  {
   "cell_type": "code",
   "execution_count": null,
   "id": "93b2a047",
   "metadata": {},
   "outputs": [],
   "source": []
  }
 ],
 "metadata": {
  "kernelspec": {
   "display_name": "Python 3 (ipykernel)",
   "language": "python",
   "name": "python3"
  },
  "language_info": {
   "codemirror_mode": {
    "name": "ipython",
    "version": 3
   },
   "file_extension": ".py",
   "mimetype": "text/x-python",
   "name": "python",
   "nbconvert_exporter": "python",
   "pygments_lexer": "ipython3",
   "version": "3.9.13"
  }
 },
 "nbformat": 4,
 "nbformat_minor": 5
}
